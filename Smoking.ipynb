{
  "nbformat": 4,
  "nbformat_minor": 0,
  "metadata": {
    "colab": {
      "provenance": [],
      "authorship_tag": "ABX9TyPU84dtueDOP+F3i1/po8Sy",
      "include_colab_link": true
    },
    "kernelspec": {
      "name": "python3",
      "display_name": "Python 3"
    },
    "language_info": {
      "name": "python"
    }
  },
  "cells": [
    {
      "cell_type": "markdown",
      "metadata": {
        "id": "view-in-github",
        "colab_type": "text"
      },
      "source": [
        "<a href=\"https://colab.research.google.com/github/nribot/smoking/blob/main/Smoking.ipynb\" target=\"_parent\"><img src=\"https://colab.research.google.com/assets/colab-badge.svg\" alt=\"Open In Colab\"/></a>"
      ]
    },
    {
      "cell_type": "markdown",
      "source": [
        "* Leer archivo con los datos\n",
        "* Preprocesado de los datos: eleimiar columnos que no nos interesen, limpiar * valores perdidos, cambiar etiqueta de las clases a 0, 1, 2, 3, .... en caso de * que sean strings, codificar o transformar columnas que sean texto, ....\n",
        "* Separar entre X e Y\n",
        "* Separar en entrenamiento y test (si no nos lo dan por defecto)\n",
        "* Normalizar\n",
        "* Entrenar los modelos que queramos de clasificación: Predicciones, evaluación * (alguna métrica de clasificación que hemos visto o varias de ellas)\n",
        "* Comparar los resultados de todos los modeos y quedarnos con el mejor.\n",
        "* Añadir validación cruzada a los hiperparámetros que considere oportuno!!!"
      ],
      "metadata": {
        "id": "zUhHa46Z4lkT"
      }
    },
    {
      "cell_type": "code",
      "execution_count": null,
      "metadata": {
        "id": "iNqljQXq4ax8"
      },
      "outputs": [],
      "source": [
        "# Para visualizar gráficas en notebooks\n",
        "%matplotlib inline \n",
        "\n",
        "#Importar algunas librerías que serán necesarias trabajando con datos y realizando gráficas\n",
        "import random\n",
        "import matplotlib.pyplot as plt\n",
        "import numpy as np\n",
        "import pandas as pd\n",
        "from sklearn import datasets\n",
        "from sklearn.model_selection import train_test_split\n",
        "from sklearn.preprocessing import StandardScaler\n",
        "from sklearn.model_selection import GridSearchCV\n",
        "from sklearn.neighbors import KNeighborsClassifier\n",
        "from sklearn.metrics import ConfusionMatrixDisplay"
      ]
    },
    {
      "cell_type": "markdown",
      "source": [
        "### Carga de datos\n",
        "\n",
        "\n",
        "Datos obtenidos de https://www.kaggle.com/datasets/kukuroo3/body-signal-of-smoking\n",
        "\n",
        "La variable de salida es `smoking` que tiene dos valores en este dataset, según la documentación:\n",
        "* 0 = no han fumado nunca\n",
        "* 1 = fumaban anteriormente (pero ya no)\n",
        "\n",
        "Había una tercera categoría, fumadores activos, que se ha eliminado ya del dataset."
      ],
      "metadata": {
        "id": "qZqHXxMn4-vc"
      }
    },
    {
      "cell_type": "code",
      "source": [
        "data = pd.read_csv('smoking.csv')\n",
        "data.head()"
      ],
      "metadata": {
        "colab": {
          "base_uri": "https://localhost:8080/",
          "height": 346
        },
        "id": "EN7gozHH49ej",
        "outputId": "bf119dd6-224c-4bae-c777-42f77bbf3c22"
      },
      "execution_count": null,
      "outputs": [
        {
          "output_type": "error",
          "ename": "FileNotFoundError",
          "evalue": "ignored",
          "traceback": [
            "\u001b[0;31m---------------------------------------------------------------------------\u001b[0m",
            "\u001b[0;31mFileNotFoundError\u001b[0m                         Traceback (most recent call last)",
            "\u001b[0;32m<ipython-input-4-c76f60fa7ef3>\u001b[0m in \u001b[0;36m<cell line: 1>\u001b[0;34m()\u001b[0m\n\u001b[0;32m----> 1\u001b[0;31m \u001b[0mdata\u001b[0m \u001b[0;34m=\u001b[0m \u001b[0mpd\u001b[0m\u001b[0;34m.\u001b[0m\u001b[0mread_csv\u001b[0m\u001b[0;34m(\u001b[0m\u001b[0;34m'smoking.csv'\u001b[0m\u001b[0;34m)\u001b[0m\u001b[0;34m\u001b[0m\u001b[0;34m\u001b[0m\u001b[0m\n\u001b[0m\u001b[1;32m      2\u001b[0m \u001b[0mdata\u001b[0m\u001b[0;34m.\u001b[0m\u001b[0mhead\u001b[0m\u001b[0;34m(\u001b[0m\u001b[0;34m)\u001b[0m\u001b[0;34m\u001b[0m\u001b[0;34m\u001b[0m\u001b[0m\n",
            "\u001b[0;32m/usr/local/lib/python3.10/dist-packages/pandas/util/_decorators.py\u001b[0m in \u001b[0;36mwrapper\u001b[0;34m(*args, **kwargs)\u001b[0m\n\u001b[1;32m    209\u001b[0m                 \u001b[0;32melse\u001b[0m\u001b[0;34m:\u001b[0m\u001b[0;34m\u001b[0m\u001b[0;34m\u001b[0m\u001b[0m\n\u001b[1;32m    210\u001b[0m                     \u001b[0mkwargs\u001b[0m\u001b[0;34m[\u001b[0m\u001b[0mnew_arg_name\u001b[0m\u001b[0;34m]\u001b[0m \u001b[0;34m=\u001b[0m \u001b[0mnew_arg_value\u001b[0m\u001b[0;34m\u001b[0m\u001b[0;34m\u001b[0m\u001b[0m\n\u001b[0;32m--> 211\u001b[0;31m             \u001b[0;32mreturn\u001b[0m \u001b[0mfunc\u001b[0m\u001b[0;34m(\u001b[0m\u001b[0;34m*\u001b[0m\u001b[0margs\u001b[0m\u001b[0;34m,\u001b[0m \u001b[0;34m**\u001b[0m\u001b[0mkwargs\u001b[0m\u001b[0;34m)\u001b[0m\u001b[0;34m\u001b[0m\u001b[0;34m\u001b[0m\u001b[0m\n\u001b[0m\u001b[1;32m    212\u001b[0m \u001b[0;34m\u001b[0m\u001b[0m\n\u001b[1;32m    213\u001b[0m         \u001b[0;32mreturn\u001b[0m \u001b[0mcast\u001b[0m\u001b[0;34m(\u001b[0m\u001b[0mF\u001b[0m\u001b[0;34m,\u001b[0m \u001b[0mwrapper\u001b[0m\u001b[0;34m)\u001b[0m\u001b[0;34m\u001b[0m\u001b[0;34m\u001b[0m\u001b[0m\n",
            "\u001b[0;32m/usr/local/lib/python3.10/dist-packages/pandas/util/_decorators.py\u001b[0m in \u001b[0;36mwrapper\u001b[0;34m(*args, **kwargs)\u001b[0m\n\u001b[1;32m    329\u001b[0m                     \u001b[0mstacklevel\u001b[0m\u001b[0;34m=\u001b[0m\u001b[0mfind_stack_level\u001b[0m\u001b[0;34m(\u001b[0m\u001b[0;34m)\u001b[0m\u001b[0;34m,\u001b[0m\u001b[0;34m\u001b[0m\u001b[0;34m\u001b[0m\u001b[0m\n\u001b[1;32m    330\u001b[0m                 )\n\u001b[0;32m--> 331\u001b[0;31m             \u001b[0;32mreturn\u001b[0m \u001b[0mfunc\u001b[0m\u001b[0;34m(\u001b[0m\u001b[0;34m*\u001b[0m\u001b[0margs\u001b[0m\u001b[0;34m,\u001b[0m \u001b[0;34m**\u001b[0m\u001b[0mkwargs\u001b[0m\u001b[0;34m)\u001b[0m\u001b[0;34m\u001b[0m\u001b[0;34m\u001b[0m\u001b[0m\n\u001b[0m\u001b[1;32m    332\u001b[0m \u001b[0;34m\u001b[0m\u001b[0m\n\u001b[1;32m    333\u001b[0m         \u001b[0;31m# error: \"Callable[[VarArg(Any), KwArg(Any)], Any]\" has no\u001b[0m\u001b[0;34m\u001b[0m\u001b[0;34m\u001b[0m\u001b[0m\n",
            "\u001b[0;32m/usr/local/lib/python3.10/dist-packages/pandas/io/parsers/readers.py\u001b[0m in \u001b[0;36mread_csv\u001b[0;34m(filepath_or_buffer, sep, delimiter, header, names, index_col, usecols, squeeze, prefix, mangle_dupe_cols, dtype, engine, converters, true_values, false_values, skipinitialspace, skiprows, skipfooter, nrows, na_values, keep_default_na, na_filter, verbose, skip_blank_lines, parse_dates, infer_datetime_format, keep_date_col, date_parser, dayfirst, cache_dates, iterator, chunksize, compression, thousands, decimal, lineterminator, quotechar, quoting, doublequote, escapechar, comment, encoding, encoding_errors, dialect, error_bad_lines, warn_bad_lines, on_bad_lines, delim_whitespace, low_memory, memory_map, float_precision, storage_options)\u001b[0m\n\u001b[1;32m    948\u001b[0m     \u001b[0mkwds\u001b[0m\u001b[0;34m.\u001b[0m\u001b[0mupdate\u001b[0m\u001b[0;34m(\u001b[0m\u001b[0mkwds_defaults\u001b[0m\u001b[0;34m)\u001b[0m\u001b[0;34m\u001b[0m\u001b[0;34m\u001b[0m\u001b[0m\n\u001b[1;32m    949\u001b[0m \u001b[0;34m\u001b[0m\u001b[0m\n\u001b[0;32m--> 950\u001b[0;31m     \u001b[0;32mreturn\u001b[0m \u001b[0m_read\u001b[0m\u001b[0;34m(\u001b[0m\u001b[0mfilepath_or_buffer\u001b[0m\u001b[0;34m,\u001b[0m \u001b[0mkwds\u001b[0m\u001b[0;34m)\u001b[0m\u001b[0;34m\u001b[0m\u001b[0;34m\u001b[0m\u001b[0m\n\u001b[0m\u001b[1;32m    951\u001b[0m \u001b[0;34m\u001b[0m\u001b[0m\n\u001b[1;32m    952\u001b[0m \u001b[0;34m\u001b[0m\u001b[0m\n",
            "\u001b[0;32m/usr/local/lib/python3.10/dist-packages/pandas/io/parsers/readers.py\u001b[0m in \u001b[0;36m_read\u001b[0;34m(filepath_or_buffer, kwds)\u001b[0m\n\u001b[1;32m    603\u001b[0m \u001b[0;34m\u001b[0m\u001b[0m\n\u001b[1;32m    604\u001b[0m     \u001b[0;31m# Create the parser.\u001b[0m\u001b[0;34m\u001b[0m\u001b[0;34m\u001b[0m\u001b[0m\n\u001b[0;32m--> 605\u001b[0;31m     \u001b[0mparser\u001b[0m \u001b[0;34m=\u001b[0m \u001b[0mTextFileReader\u001b[0m\u001b[0;34m(\u001b[0m\u001b[0mfilepath_or_buffer\u001b[0m\u001b[0;34m,\u001b[0m \u001b[0;34m**\u001b[0m\u001b[0mkwds\u001b[0m\u001b[0;34m)\u001b[0m\u001b[0;34m\u001b[0m\u001b[0;34m\u001b[0m\u001b[0m\n\u001b[0m\u001b[1;32m    606\u001b[0m \u001b[0;34m\u001b[0m\u001b[0m\n\u001b[1;32m    607\u001b[0m     \u001b[0;32mif\u001b[0m \u001b[0mchunksize\u001b[0m \u001b[0;32mor\u001b[0m \u001b[0miterator\u001b[0m\u001b[0;34m:\u001b[0m\u001b[0;34m\u001b[0m\u001b[0;34m\u001b[0m\u001b[0m\n",
            "\u001b[0;32m/usr/local/lib/python3.10/dist-packages/pandas/io/parsers/readers.py\u001b[0m in \u001b[0;36m__init__\u001b[0;34m(self, f, engine, **kwds)\u001b[0m\n\u001b[1;32m   1440\u001b[0m \u001b[0;34m\u001b[0m\u001b[0m\n\u001b[1;32m   1441\u001b[0m         \u001b[0mself\u001b[0m\u001b[0;34m.\u001b[0m\u001b[0mhandles\u001b[0m\u001b[0;34m:\u001b[0m \u001b[0mIOHandles\u001b[0m \u001b[0;34m|\u001b[0m \u001b[0;32mNone\u001b[0m \u001b[0;34m=\u001b[0m \u001b[0;32mNone\u001b[0m\u001b[0;34m\u001b[0m\u001b[0;34m\u001b[0m\u001b[0m\n\u001b[0;32m-> 1442\u001b[0;31m         \u001b[0mself\u001b[0m\u001b[0;34m.\u001b[0m\u001b[0m_engine\u001b[0m \u001b[0;34m=\u001b[0m \u001b[0mself\u001b[0m\u001b[0;34m.\u001b[0m\u001b[0m_make_engine\u001b[0m\u001b[0;34m(\u001b[0m\u001b[0mf\u001b[0m\u001b[0;34m,\u001b[0m \u001b[0mself\u001b[0m\u001b[0;34m.\u001b[0m\u001b[0mengine\u001b[0m\u001b[0;34m)\u001b[0m\u001b[0;34m\u001b[0m\u001b[0;34m\u001b[0m\u001b[0m\n\u001b[0m\u001b[1;32m   1443\u001b[0m \u001b[0;34m\u001b[0m\u001b[0m\n\u001b[1;32m   1444\u001b[0m     \u001b[0;32mdef\u001b[0m \u001b[0mclose\u001b[0m\u001b[0;34m(\u001b[0m\u001b[0mself\u001b[0m\u001b[0;34m)\u001b[0m \u001b[0;34m->\u001b[0m \u001b[0;32mNone\u001b[0m\u001b[0;34m:\u001b[0m\u001b[0;34m\u001b[0m\u001b[0;34m\u001b[0m\u001b[0m\n",
            "\u001b[0;32m/usr/local/lib/python3.10/dist-packages/pandas/io/parsers/readers.py\u001b[0m in \u001b[0;36m_make_engine\u001b[0;34m(self, f, engine)\u001b[0m\n\u001b[1;32m   1733\u001b[0m                 \u001b[0;32mif\u001b[0m \u001b[0;34m\"b\"\u001b[0m \u001b[0;32mnot\u001b[0m \u001b[0;32min\u001b[0m \u001b[0mmode\u001b[0m\u001b[0;34m:\u001b[0m\u001b[0;34m\u001b[0m\u001b[0;34m\u001b[0m\u001b[0m\n\u001b[1;32m   1734\u001b[0m                     \u001b[0mmode\u001b[0m \u001b[0;34m+=\u001b[0m \u001b[0;34m\"b\"\u001b[0m\u001b[0;34m\u001b[0m\u001b[0;34m\u001b[0m\u001b[0m\n\u001b[0;32m-> 1735\u001b[0;31m             self.handles = get_handle(\n\u001b[0m\u001b[1;32m   1736\u001b[0m                 \u001b[0mf\u001b[0m\u001b[0;34m,\u001b[0m\u001b[0;34m\u001b[0m\u001b[0;34m\u001b[0m\u001b[0m\n\u001b[1;32m   1737\u001b[0m                 \u001b[0mmode\u001b[0m\u001b[0;34m,\u001b[0m\u001b[0;34m\u001b[0m\u001b[0;34m\u001b[0m\u001b[0m\n",
            "\u001b[0;32m/usr/local/lib/python3.10/dist-packages/pandas/io/common.py\u001b[0m in \u001b[0;36mget_handle\u001b[0;34m(path_or_buf, mode, encoding, compression, memory_map, is_text, errors, storage_options)\u001b[0m\n\u001b[1;32m    854\u001b[0m         \u001b[0;32mif\u001b[0m \u001b[0mioargs\u001b[0m\u001b[0;34m.\u001b[0m\u001b[0mencoding\u001b[0m \u001b[0;32mand\u001b[0m \u001b[0;34m\"b\"\u001b[0m \u001b[0;32mnot\u001b[0m \u001b[0;32min\u001b[0m \u001b[0mioargs\u001b[0m\u001b[0;34m.\u001b[0m\u001b[0mmode\u001b[0m\u001b[0;34m:\u001b[0m\u001b[0;34m\u001b[0m\u001b[0;34m\u001b[0m\u001b[0m\n\u001b[1;32m    855\u001b[0m             \u001b[0;31m# Encoding\u001b[0m\u001b[0;34m\u001b[0m\u001b[0;34m\u001b[0m\u001b[0m\n\u001b[0;32m--> 856\u001b[0;31m             handle = open(\n\u001b[0m\u001b[1;32m    857\u001b[0m                 \u001b[0mhandle\u001b[0m\u001b[0;34m,\u001b[0m\u001b[0;34m\u001b[0m\u001b[0;34m\u001b[0m\u001b[0m\n\u001b[1;32m    858\u001b[0m                 \u001b[0mioargs\u001b[0m\u001b[0;34m.\u001b[0m\u001b[0mmode\u001b[0m\u001b[0;34m,\u001b[0m\u001b[0;34m\u001b[0m\u001b[0;34m\u001b[0m\u001b[0m\n",
            "\u001b[0;31mFileNotFoundError\u001b[0m: [Errno 2] No such file or directory: 'smoking.csv'"
          ]
        }
      ]
    },
    {
      "cell_type": "code",
      "source": [
        "original_dim = data.shape\n",
        "print(\"El dataset contiene\", data.shape[0], \"observaciones de\", data.shape[1], \"variables.\")"
      ],
      "metadata": {
        "id": "tpRRlhfj9giM"
      },
      "execution_count": null,
      "outputs": []
    },
    {
      "cell_type": "markdown",
      "source": [
        "Examinamos el tipo de las columnas y si hay nulos:"
      ],
      "metadata": {
        "id": "gZ4BBVUz91Ht"
      }
    },
    {
      "cell_type": "code",
      "source": [
        "data.info()"
      ],
      "metadata": {
        "id": "v4ng3IL_6Pd1"
      },
      "execution_count": null,
      "outputs": []
    },
    {
      "cell_type": "markdown",
      "source": [
        "### Examen y tranformación de los datos"
      ],
      "metadata": {
        "id": "TZUCuEFnn7_L"
      }
    },
    {
      "cell_type": "markdown",
      "source": [
        "Visualizamos las columnas categóricas, incluyendo la variable de salida.\n",
        "\n"
      ],
      "metadata": {
        "id": "pu-6JhiUzhFi"
      }
    },
    {
      "cell_type": "code",
      "source": [
        "categorical = ['gender', 'oral', 'tartar', 'smoking']\n",
        "\n",
        "for i in categorical:\n",
        "  idx = categorical.index(i)\n",
        "  ax1 = plt.subplot(2,2, idx+1)\n",
        "  ax1.pie(data[i].value_counts(), \n",
        "          labels=data[i].unique(),\n",
        "          autopct = '%1.1f%%'\n",
        "          )\n",
        "  ax1.set_title(i)\n",
        "  "
      ],
      "metadata": {
        "id": "AnoVGVYY1d5c"
      },
      "execution_count": null,
      "outputs": []
    },
    {
      "cell_type": "markdown",
      "source": [
        "Vemos que la categoría `oral` solo tiene un valor, la eliminamos junto con la variable `ID`."
      ],
      "metadata": {
        "id": "TBwMqQKW3Bdk"
      }
    },
    {
      "cell_type": "code",
      "source": [
        "data = data.drop(labels=['ID', 'oral'], axis=1)\n",
        "data.shape"
      ],
      "metadata": {
        "id": "3XORX_tb3ZoO"
      },
      "execution_count": null,
      "outputs": []
    },
    {
      "cell_type": "markdown",
      "source": [
        "Además, vemos que el dataset tiene mucha más presencia de personas no fumadoras y de mujeres, vamos a examinar si hay alguna relación."
      ],
      "metadata": {
        "id": "PudaPLh_3L0s"
      }
    },
    {
      "cell_type": "code",
      "source": [
        "CrosstabResult=pd.crosstab(index=data['gender'],columns=data['smoking'])\n",
        "print(CrosstabResult)"
      ],
      "metadata": {
        "id": "PbU4k_io9-Ih"
      },
      "execution_count": null,
      "outputs": []
    },
    {
      "cell_type": "markdown",
      "source": [
        "Parece que sí hay una clara distribución por sexo: la gran mayoría de fumadores previos son hombres."
      ],
      "metadata": {
        "id": "i8Gz1K0IMV9h"
      }
    },
    {
      "cell_type": "markdown",
      "source": [
        "Las columnas 'gender' y 'tartar' solo contienen dos categorías; las cambiamos a variables numéricas.\n",
        "\n",
        "* Gender: 0 = male, 1 = female\n",
        "* Tartar  0 = N, 1 = Y"
      ],
      "metadata": {
        "id": "zGuKNh-662rm"
      }
    },
    {
      "cell_type": "code",
      "source": [
        "data['gender'].replace('M', 0, inplace=True)\n",
        "data['gender'].replace('F', 1, inplace=True)\n",
        "data.replace('N', 0, inplace=True)\n",
        "data.replace('Y', 1, inplace=True)\n",
        "#data.loc[:,['gender', 'tartar']].head()"
      ],
      "metadata": {
        "id": "948jwuEZ7APh"
      },
      "execution_count": null,
      "outputs": []
    },
    {
      "cell_type": "code",
      "source": [
        "data.describe()"
      ],
      "metadata": {
        "id": "vmrCvn9nwyD8"
      },
      "execution_count": null,
      "outputs": []
    },
    {
      "cell_type": "markdown",
      "source": [
        "Las columnas `eyesight(left)` y `eyesgiht(right)` tienen valroes máximos de 9.9 pero la mayoría están entre cero y dos. Creemos que esto indica valores faltantes.\n",
        "\n",
        "Lo mismo podría pasar con la columna  `Gtp` y el valor 999, pero en ese caso sí que hay valores de más de novecientos, así que la vamos a dejar."
      ],
      "metadata": {
        "id": "Xtk_fMX2ytkL"
      }
    },
    {
      "cell_type": "code",
      "source": [
        "col = [ 'eyesight(left)', 'eyesight(right)']\n",
        "\n",
        "for i in col:\n",
        "  idx = col.index(i)\n",
        "  ax = plt.subplot(1,2, idx+1)\n",
        "  ax.hist(data[i])\n",
        "  ax.set_title(i)\n",
        "plt.rcParams[\"figure.figsize\"] = (3,2) # hacemos las gráficas más pequeñas\n",
        "plt.show()"
      ],
      "metadata": {
        "id": "cI__s29M6kEq"
      },
      "execution_count": null,
      "outputs": []
    },
    {
      "cell_type": "markdown",
      "source": [
        "Como tenemos muchas observaciones y hay muy pocos valores faltantes, eliminamos las filas con valores faltantes."
      ],
      "metadata": {
        "id": "lLgTet3F88ut"
      }
    },
    {
      "cell_type": "code",
      "source": [
        "data = data.drop(data[data['eyesight(left)']==9.9].index)\n",
        "data = data.drop(data[data['eyesight(right)']==9.9].index)\n",
        "data.shape"
      ],
      "metadata": {
        "id": "GxKAidL58668"
      },
      "execution_count": null,
      "outputs": []
    },
    {
      "cell_type": "code",
      "source": [
        "col = [ 'eyesight(left)', 'eyesight(right)']\n",
        "\n",
        "for i in col:\n",
        "  idx = col.index(i)\n",
        "  ax = plt.subplot(1,2, idx+1)\n",
        "  ax.hist(data[i])\n",
        "  ax.set_title(i)\n",
        "plt.rcParams[\"figure.figsize\"] = (6,2) # hacemos las gráficas más pequeñas\n",
        "plt.show()\n",
        "\n",
        "plt.rcParams[\"figure.figsize\"] = plt.rcParamsDefault[\"figure.figsize\"] # reset valores"
      ],
      "metadata": {
        "id": "Utzb9bkvBjo-"
      },
      "execution_count": null,
      "outputs": []
    },
    {
      "cell_type": "code",
      "source": [
        "print(\"Nos hemos quedado con el\", round(data.shape[0] *100 / original_dim[0],2), \"% de observaciones\")"
      ],
      "metadata": {
        "id": "RIDa1isp_o9x"
      },
      "execution_count": null,
      "outputs": []
    },
    {
      "cell_type": "markdown",
      "source": [
        "### Balanceo del dataset\n",
        "\n",
        "En la exploración hemos visto que teníamos mucha más cantidad de observaciones con el valor 0 que con el valor 1 en la variable predictora.\n",
        "\n",
        "Deberíamos coger la misma cantidad de datos de las dos clases (smoking=0 vs smoking=1) para no desviar el modelo.\n",
        "\n",
        "Vamos a realizar un undersampling."
      ],
      "metadata": {
        "id": "ltBsn6LkP_77"
      }
    },
    {
      "cell_type": "code",
      "source": [
        "# undersampling\n",
        "smoking1 = data[data['smoking']==1]\n",
        "smoking0 = data[data['smoking']==0]\n",
        "smoking0 = smoking0.sample(n=len(smoking1), random_state=101)\n",
        "data = pd.concat([smoking0, smoking1],axis=0)\n",
        "print(\"Nos hemos quedado con el\", round(data.shape[0] *100 / original_dim[0],2), \"% de observaciones\")"
      ],
      "metadata": {
        "id": "qpjLeB_1QS6p"
      },
      "execution_count": null,
      "outputs": []
    },
    {
      "cell_type": "markdown",
      "source": [
        "### Separación variables explicatorias y predictiva"
      ],
      "metadata": {
        "id": "q_47pGhFyW07"
      }
    },
    {
      "cell_type": "code",
      "source": [
        "X = data.iloc[:, :-1]\n",
        "Y = data.iloc[:, -1]\n",
        "\n",
        "print(X.shape)\n",
        "print(Y.shape)"
      ],
      "metadata": {
        "id": "_T8BxrtW9M26"
      },
      "execution_count": null,
      "outputs": []
    },
    {
      "cell_type": "markdown",
      "source": [
        "### División train/test/validation\n",
        "\n",
        "Como tenemos un gran número de observaciones, vamos a hacer la validación de `k` con un set de validación en lugar de hacer validación cruzada."
      ],
      "metadata": {
        "id": "Y74sLtK67BSj"
      }
    },
    {
      "cell_type": "code",
      "source": [
        "X0_train, X0_test, Y0_train, Y_test = train_test_split(X, Y, test_size=0.2, random_state=0)\n",
        "X1_train, X1_val, Y_train, Y_val = train_test_split(X0_train, Y0_train, test_size=0.2, random_state=0)\n",
        "\n",
        "transformer = StandardScaler().fit(X1_train)\n",
        "X_train = transformer.transform(X1_train)\n",
        "X_val = transformer.transform(X1_val)\n",
        "X_test = transformer.transform(X0_test)\n",
        "print(\"Observaciones de train:\", X_train.shape[0]) \n",
        "print(\"Observaciones de validación:\",X_val.shape[0])\n",
        "print(\"Observaciones de test:\",X_test.shape[0])"
      ],
      "metadata": {
        "id": "N33isve_Rlfl"
      },
      "execution_count": null,
      "outputs": []
    },
    {
      "cell_type": "markdown",
      "source": [
        "### Normalización"
      ],
      "metadata": {
        "id": "yQYOwLte-UFo"
      }
    },
    {
      "cell_type": "code",
      "source": [
        "transformer = StandardScaler().fit(X_train)\n",
        "X_train = transformer.transform(X_train)\n",
        "X_val = transformer.transform(X_val)\n",
        "X_test = transformer.transform(X_test)"
      ],
      "metadata": {
        "id": "DTzj118r-USo"
      },
      "execution_count": null,
      "outputs": []
    },
    {
      "cell_type": "markdown",
      "source": [
        "### Modelo con KNN"
      ],
      "metadata": {
        "id": "HtHmwZOBC3yW"
      }
    },
    {
      "cell_type": "markdown",
      "source": [
        "#### Entreno del modelo con varias k en el conjunto de validación"
      ],
      "metadata": {
        "id": "Av-PbythOVTV"
      }
    },
    {
      "cell_type": "code",
      "source": [
        "k_list = [1, 10, 50, 100, 200, 1000, 10000]\n",
        "\n",
        "# Dibujamos los errores de entrenamiento y de test en función del parámetro k\n",
        "n_tr = X_train.shape[0]\n",
        "pe_tr = []\n",
        "pe_val = []\n",
        "\n",
        "for k in k_list:\n",
        "    # Errores de entrenamiento\n",
        "    KNN_k = KNeighborsClassifier(n_neighbors=k)\n",
        "    KNN_k.fit(X_train, Y_train)\n",
        "    Z_tr = KNN_k.predict(X_train)\n",
        "    E_tr = Z_tr.flatten()!=Y_train\n",
        "\n",
        "    # Errores de val\n",
        "    Z_tst = KNN_k.predict(X_val)\n",
        "    E_val = Z_tst.flatten()!=Y_val\n",
        "\n",
        "    # Tasas de error\n",
        "    pe_tr.append(np.mean(E_tr))\n",
        "    pe_val.append(np.mean(E_val))\n",
        "\n",
        "k_opt = k_list[np.argmin(pe_val)]\n",
        "print('El valor óptimo de k es ' + str(k_opt))"
      ],
      "metadata": {
        "id": "rgnTaN5pKzSJ"
      },
      "execution_count": null,
      "outputs": []
    },
    {
      "cell_type": "code",
      "source": [
        "# graficamos\n",
        "plt.plot(np.log10(k_list), pe_tr,'b--o',label='Training error')\n",
        "plt.plot(np.log10(k_list), pe_val,'g--o',label='Validation error')\n",
        "plt.stem([np.log10(k_opt), np.log10(k_opt)], [0, min(pe_val)],'r-o',label='Optimal k')\n",
        "plt.xlabel('$log(k)$')\n",
        "plt.ylabel('Tasa de error')\n",
        "plt.legend(loc='best')"
      ],
      "metadata": {
        "id": "WtcUYh4kGMb9"
      },
      "execution_count": null,
      "outputs": []
    },
    {
      "cell_type": "markdown",
      "source": [
        "#### Evaluación del modelo con la mejor k"
      ],
      "metadata": {
        "id": "vK80-H2G-nN6"
      }
    },
    {
      "cell_type": "code",
      "source": [
        "clf = KNeighborsClassifier(k_opt)\n",
        "clf.fit(X_train, Y_train)\n",
        "Y_test_pred = clf.predict(X_test)\n",
        "pe_tst = np.mean(Y_test != Y_test_pred)\n",
        "print('Tasa de error', round(pe_tst,2), \"con k = \", k_opt)"
      ],
      "metadata": {
        "id": "mzVyjog_47sv"
      },
      "execution_count": null,
      "outputs": []
    },
    {
      "cell_type": "code",
      "source": [
        "ConfusionMatrixDisplay.from_estimator(clf, X_test, Y_test)"
      ],
      "metadata": {
        "id": "8onYmrSj9ScN"
      },
      "execution_count": null,
      "outputs": []
    }
  ]
}