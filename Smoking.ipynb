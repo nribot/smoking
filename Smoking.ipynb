{
  "nbformat": 4,
  "nbformat_minor": 0,
  "metadata": {
    "colab": {
      "provenance": [],
      "toc_visible": true,
      "mount_file_id": "1GlsKowXVX2qDb5s3jKit3KDki7VUaAxW",
      "authorship_tag": "ABX9TyMUhG/OsgeYVi3Usc5Y94Nj",
      "include_colab_link": true
    },
    "kernelspec": {
      "name": "python3",
      "display_name": "Python 3"
    },
    "language_info": {
      "name": "python"
    }
  },
  "cells": [
    {
      "cell_type": "markdown",
      "metadata": {
        "id": "view-in-github",
        "colab_type": "text"
      },
      "source": [
        "<a href=\"https://colab.research.google.com/github/nribot/smoking/blob/main/Smoking.ipynb\" target=\"_parent\"><img src=\"https://colab.research.google.com/assets/colab-badge.svg\" alt=\"Open In Colab\"/></a>"
      ]
    },
    {
      "cell_type": "markdown",
      "source": [
        "* Leer archivo con los datos\n",
        "* Preprocesado de los datos: eleimiar columnos que no nos interesen, limpiar * valores perdidos, cambiar etiqueta de las clases a 0, 1, 2, 3, .... en caso de * que sean strings, codificar o transformar columnas que sean texto, ....\n",
        "* Separar entre X e Y\n",
        "* Separar en entrenamiento y test (si no nos lo dan por defecto)\n",
        "* Normalizar\n",
        "* Entrenar los modelos que queramos de clasificación: Predicciones, evaluación * (alguna métrica de clasificación que hemos visto o varias de ellas)\n",
        "* Comparar los resultados de todos los modeos y quedarnos con el mejor.\n",
        "* Añadir validación cruzada a los hiperparámetros que considere oportuno!!!"
      ],
      "metadata": {
        "id": "zUhHa46Z4lkT"
      }
    },
    {
      "cell_type": "code",
      "execution_count": 2,
      "metadata": {
        "id": "iNqljQXq4ax8"
      },
      "outputs": [],
      "source": [
        "# Para visualizar gráficas en notebooks\n",
        "%matplotlib inline \n",
        "\n",
        "# para acceder al archivo guardado en drive\n",
        "from google.colab import drive\n",
        "\n",
        "#Importar algunas librerías que serán necesarias trabajando con datos y realizando gráficas\n",
        "import random\n",
        "import matplotlib.pyplot as plt\n",
        "import numpy as np\n",
        "import pandas as pd\n",
        "from sklearn import datasets\n",
        "from sklearn.model_selection import train_test_split\n",
        "from sklearn.preprocessing import StandardScaler\n",
        "from sklearn.model_selection import GridSearchCV\n",
        "from sklearn.neighbors import KNeighborsClassifier\n",
        "from sklearn.metrics import ConfusionMatrixDisplay"
      ]
    },
    {
      "cell_type": "markdown",
      "source": [
        "### Carga de datos\n",
        "\n",
        "\n",
        "Datos obtenidos de https://www.kaggle.com/datasets/kukuroo3/body-signal-of-smoking\n",
        "\n",
        "La variable de salida es `smoking` que tiene dos valores en este dataset, según la documentación:\n",
        "* 0 = no han fumado nunca\n",
        "* 1 = fumaban anteriormente (pero ya no)\n",
        "\n",
        "Había una tercera categoría, fumadores activos, que se ha eliminado ya del dataset."
      ],
      "metadata": {
        "id": "qZqHXxMn4-vc"
      }
    },
    {
      "cell_type": "code",
      "source": [
        "drive.mount('/content/drive')\n",
        "\n",
        "data = pd.read_csv('drive/MyDrive/Datasets/smoking.csv')\n",
        "\n",
        "data.head()"
      ],
      "metadata": {
        "colab": {
          "base_uri": "https://localhost:8080/",
          "height": 334
        },
        "id": "EN7gozHH49ej",
        "outputId": "5d8ba402-19ae-4beb-ace6-7321f7aa6e28"
      },
      "execution_count": 4,
      "outputs": [
        {
          "output_type": "stream",
          "name": "stdout",
          "text": [
            "Drive already mounted at /content/drive; to attempt to forcibly remount, call drive.mount(\"/content/drive\", force_remount=True).\n"
          ]
        },
        {
          "output_type": "execute_result",
          "data": {
            "text/plain": [
              "   ID gender  age  height(cm)  weight(kg)  waist(cm)  eyesight(left)  \\\n",
              "0   0      F   40         155          60       81.3             1.2   \n",
              "1   1      F   40         160          60       81.0             0.8   \n",
              "2   2      M   55         170          60       80.0             0.8   \n",
              "3   3      M   40         165          70       88.0             1.5   \n",
              "4   4      F   40         155          60       86.0             1.0   \n",
              "\n",
              "   eyesight(right)  hearing(left)  hearing(right)  ...  hemoglobin  \\\n",
              "0              1.0            1.0             1.0  ...        12.9   \n",
              "1              0.6            1.0             1.0  ...        12.7   \n",
              "2              0.8            1.0             1.0  ...        15.8   \n",
              "3              1.5            1.0             1.0  ...        14.7   \n",
              "4              1.0            1.0             1.0  ...        12.5   \n",
              "\n",
              "   Urine protein  serum creatinine   AST   ALT   Gtp  oral  dental caries  \\\n",
              "0            1.0               0.7  18.0  19.0  27.0     Y              0   \n",
              "1            1.0               0.6  22.0  19.0  18.0     Y              0   \n",
              "2            1.0               1.0  21.0  16.0  22.0     Y              0   \n",
              "3            1.0               1.0  19.0  26.0  18.0     Y              0   \n",
              "4            1.0               0.6  16.0  14.0  22.0     Y              0   \n",
              "\n",
              "   tartar  smoking  \n",
              "0       Y        0  \n",
              "1       Y        0  \n",
              "2       N        1  \n",
              "3       Y        0  \n",
              "4       N        0  \n",
              "\n",
              "[5 rows x 27 columns]"
            ],
            "text/html": [
              "\n",
              "  <div id=\"df-53ceca22-2d4d-41a0-a1db-4f8f427a97ae\">\n",
              "    <div class=\"colab-df-container\">\n",
              "      <div>\n",
              "<style scoped>\n",
              "    .dataframe tbody tr th:only-of-type {\n",
              "        vertical-align: middle;\n",
              "    }\n",
              "\n",
              "    .dataframe tbody tr th {\n",
              "        vertical-align: top;\n",
              "    }\n",
              "\n",
              "    .dataframe thead th {\n",
              "        text-align: right;\n",
              "    }\n",
              "</style>\n",
              "<table border=\"1\" class=\"dataframe\">\n",
              "  <thead>\n",
              "    <tr style=\"text-align: right;\">\n",
              "      <th></th>\n",
              "      <th>ID</th>\n",
              "      <th>gender</th>\n",
              "      <th>age</th>\n",
              "      <th>height(cm)</th>\n",
              "      <th>weight(kg)</th>\n",
              "      <th>waist(cm)</th>\n",
              "      <th>eyesight(left)</th>\n",
              "      <th>eyesight(right)</th>\n",
              "      <th>hearing(left)</th>\n",
              "      <th>hearing(right)</th>\n",
              "      <th>...</th>\n",
              "      <th>hemoglobin</th>\n",
              "      <th>Urine protein</th>\n",
              "      <th>serum creatinine</th>\n",
              "      <th>AST</th>\n",
              "      <th>ALT</th>\n",
              "      <th>Gtp</th>\n",
              "      <th>oral</th>\n",
              "      <th>dental caries</th>\n",
              "      <th>tartar</th>\n",
              "      <th>smoking</th>\n",
              "    </tr>\n",
              "  </thead>\n",
              "  <tbody>\n",
              "    <tr>\n",
              "      <th>0</th>\n",
              "      <td>0</td>\n",
              "      <td>F</td>\n",
              "      <td>40</td>\n",
              "      <td>155</td>\n",
              "      <td>60</td>\n",
              "      <td>81.3</td>\n",
              "      <td>1.2</td>\n",
              "      <td>1.0</td>\n",
              "      <td>1.0</td>\n",
              "      <td>1.0</td>\n",
              "      <td>...</td>\n",
              "      <td>12.9</td>\n",
              "      <td>1.0</td>\n",
              "      <td>0.7</td>\n",
              "      <td>18.0</td>\n",
              "      <td>19.0</td>\n",
              "      <td>27.0</td>\n",
              "      <td>Y</td>\n",
              "      <td>0</td>\n",
              "      <td>Y</td>\n",
              "      <td>0</td>\n",
              "    </tr>\n",
              "    <tr>\n",
              "      <th>1</th>\n",
              "      <td>1</td>\n",
              "      <td>F</td>\n",
              "      <td>40</td>\n",
              "      <td>160</td>\n",
              "      <td>60</td>\n",
              "      <td>81.0</td>\n",
              "      <td>0.8</td>\n",
              "      <td>0.6</td>\n",
              "      <td>1.0</td>\n",
              "      <td>1.0</td>\n",
              "      <td>...</td>\n",
              "      <td>12.7</td>\n",
              "      <td>1.0</td>\n",
              "      <td>0.6</td>\n",
              "      <td>22.0</td>\n",
              "      <td>19.0</td>\n",
              "      <td>18.0</td>\n",
              "      <td>Y</td>\n",
              "      <td>0</td>\n",
              "      <td>Y</td>\n",
              "      <td>0</td>\n",
              "    </tr>\n",
              "    <tr>\n",
              "      <th>2</th>\n",
              "      <td>2</td>\n",
              "      <td>M</td>\n",
              "      <td>55</td>\n",
              "      <td>170</td>\n",
              "      <td>60</td>\n",
              "      <td>80.0</td>\n",
              "      <td>0.8</td>\n",
              "      <td>0.8</td>\n",
              "      <td>1.0</td>\n",
              "      <td>1.0</td>\n",
              "      <td>...</td>\n",
              "      <td>15.8</td>\n",
              "      <td>1.0</td>\n",
              "      <td>1.0</td>\n",
              "      <td>21.0</td>\n",
              "      <td>16.0</td>\n",
              "      <td>22.0</td>\n",
              "      <td>Y</td>\n",
              "      <td>0</td>\n",
              "      <td>N</td>\n",
              "      <td>1</td>\n",
              "    </tr>\n",
              "    <tr>\n",
              "      <th>3</th>\n",
              "      <td>3</td>\n",
              "      <td>M</td>\n",
              "      <td>40</td>\n",
              "      <td>165</td>\n",
              "      <td>70</td>\n",
              "      <td>88.0</td>\n",
              "      <td>1.5</td>\n",
              "      <td>1.5</td>\n",
              "      <td>1.0</td>\n",
              "      <td>1.0</td>\n",
              "      <td>...</td>\n",
              "      <td>14.7</td>\n",
              "      <td>1.0</td>\n",
              "      <td>1.0</td>\n",
              "      <td>19.0</td>\n",
              "      <td>26.0</td>\n",
              "      <td>18.0</td>\n",
              "      <td>Y</td>\n",
              "      <td>0</td>\n",
              "      <td>Y</td>\n",
              "      <td>0</td>\n",
              "    </tr>\n",
              "    <tr>\n",
              "      <th>4</th>\n",
              "      <td>4</td>\n",
              "      <td>F</td>\n",
              "      <td>40</td>\n",
              "      <td>155</td>\n",
              "      <td>60</td>\n",
              "      <td>86.0</td>\n",
              "      <td>1.0</td>\n",
              "      <td>1.0</td>\n",
              "      <td>1.0</td>\n",
              "      <td>1.0</td>\n",
              "      <td>...</td>\n",
              "      <td>12.5</td>\n",
              "      <td>1.0</td>\n",
              "      <td>0.6</td>\n",
              "      <td>16.0</td>\n",
              "      <td>14.0</td>\n",
              "      <td>22.0</td>\n",
              "      <td>Y</td>\n",
              "      <td>0</td>\n",
              "      <td>N</td>\n",
              "      <td>0</td>\n",
              "    </tr>\n",
              "  </tbody>\n",
              "</table>\n",
              "<p>5 rows × 27 columns</p>\n",
              "</div>\n",
              "      <button class=\"colab-df-convert\" onclick=\"convertToInteractive('df-53ceca22-2d4d-41a0-a1db-4f8f427a97ae')\"\n",
              "              title=\"Convert this dataframe to an interactive table.\"\n",
              "              style=\"display:none;\">\n",
              "        \n",
              "  <svg xmlns=\"http://www.w3.org/2000/svg\" height=\"24px\"viewBox=\"0 0 24 24\"\n",
              "       width=\"24px\">\n",
              "    <path d=\"M0 0h24v24H0V0z\" fill=\"none\"/>\n",
              "    <path d=\"M18.56 5.44l.94 2.06.94-2.06 2.06-.94-2.06-.94-.94-2.06-.94 2.06-2.06.94zm-11 1L8.5 8.5l.94-2.06 2.06-.94-2.06-.94L8.5 2.5l-.94 2.06-2.06.94zm10 10l.94 2.06.94-2.06 2.06-.94-2.06-.94-.94-2.06-.94 2.06-2.06.94z\"/><path d=\"M17.41 7.96l-1.37-1.37c-.4-.4-.92-.59-1.43-.59-.52 0-1.04.2-1.43.59L10.3 9.45l-7.72 7.72c-.78.78-.78 2.05 0 2.83L4 21.41c.39.39.9.59 1.41.59.51 0 1.02-.2 1.41-.59l7.78-7.78 2.81-2.81c.8-.78.8-2.07 0-2.86zM5.41 20L4 18.59l7.72-7.72 1.47 1.35L5.41 20z\"/>\n",
              "  </svg>\n",
              "      </button>\n",
              "      \n",
              "  <style>\n",
              "    .colab-df-container {\n",
              "      display:flex;\n",
              "      flex-wrap:wrap;\n",
              "      gap: 12px;\n",
              "    }\n",
              "\n",
              "    .colab-df-convert {\n",
              "      background-color: #E8F0FE;\n",
              "      border: none;\n",
              "      border-radius: 50%;\n",
              "      cursor: pointer;\n",
              "      display: none;\n",
              "      fill: #1967D2;\n",
              "      height: 32px;\n",
              "      padding: 0 0 0 0;\n",
              "      width: 32px;\n",
              "    }\n",
              "\n",
              "    .colab-df-convert:hover {\n",
              "      background-color: #E2EBFA;\n",
              "      box-shadow: 0px 1px 2px rgba(60, 64, 67, 0.3), 0px 1px 3px 1px rgba(60, 64, 67, 0.15);\n",
              "      fill: #174EA6;\n",
              "    }\n",
              "\n",
              "    [theme=dark] .colab-df-convert {\n",
              "      background-color: #3B4455;\n",
              "      fill: #D2E3FC;\n",
              "    }\n",
              "\n",
              "    [theme=dark] .colab-df-convert:hover {\n",
              "      background-color: #434B5C;\n",
              "      box-shadow: 0px 1px 3px 1px rgba(0, 0, 0, 0.15);\n",
              "      filter: drop-shadow(0px 1px 2px rgba(0, 0, 0, 0.3));\n",
              "      fill: #FFFFFF;\n",
              "    }\n",
              "  </style>\n",
              "\n",
              "      <script>\n",
              "        const buttonEl =\n",
              "          document.querySelector('#df-53ceca22-2d4d-41a0-a1db-4f8f427a97ae button.colab-df-convert');\n",
              "        buttonEl.style.display =\n",
              "          google.colab.kernel.accessAllowed ? 'block' : 'none';\n",
              "\n",
              "        async function convertToInteractive(key) {\n",
              "          const element = document.querySelector('#df-53ceca22-2d4d-41a0-a1db-4f8f427a97ae');\n",
              "          const dataTable =\n",
              "            await google.colab.kernel.invokeFunction('convertToInteractive',\n",
              "                                                     [key], {});\n",
              "          if (!dataTable) return;\n",
              "\n",
              "          const docLinkHtml = 'Like what you see? Visit the ' +\n",
              "            '<a target=\"_blank\" href=https://colab.research.google.com/notebooks/data_table.ipynb>data table notebook</a>'\n",
              "            + ' to learn more about interactive tables.';\n",
              "          element.innerHTML = '';\n",
              "          dataTable['output_type'] = 'display_data';\n",
              "          await google.colab.output.renderOutput(dataTable, element);\n",
              "          const docLink = document.createElement('div');\n",
              "          docLink.innerHTML = docLinkHtml;\n",
              "          element.appendChild(docLink);\n",
              "        }\n",
              "      </script>\n",
              "    </div>\n",
              "  </div>\n",
              "  "
            ]
          },
          "metadata": {},
          "execution_count": 4
        }
      ]
    },
    {
      "cell_type": "code",
      "source": [
        "original_dim = data.shape\n",
        "print(\"El dataset contiene\", data.shape[0], \"observaciones de\", data.shape[1], \"variables.\")"
      ],
      "metadata": {
        "id": "tpRRlhfj9giM"
      },
      "execution_count": null,
      "outputs": []
    },
    {
      "cell_type": "markdown",
      "source": [
        "Examinamos el tipo de las columnas y si hay nulos:"
      ],
      "metadata": {
        "id": "gZ4BBVUz91Ht"
      }
    },
    {
      "cell_type": "code",
      "source": [
        "data.info()"
      ],
      "metadata": {
        "id": "v4ng3IL_6Pd1"
      },
      "execution_count": null,
      "outputs": []
    },
    {
      "cell_type": "markdown",
      "source": [
        "### Examen y tranformación de los datos"
      ],
      "metadata": {
        "id": "TZUCuEFnn7_L"
      }
    },
    {
      "cell_type": "markdown",
      "source": [
        "Visualizamos las columnas categóricas, incluyendo la variable de salida.\n",
        "\n"
      ],
      "metadata": {
        "id": "pu-6JhiUzhFi"
      }
    },
    {
      "cell_type": "code",
      "source": [
        "categorical = ['gender', 'oral', 'tartar', 'smoking']\n",
        "\n",
        "for i in categorical:\n",
        "  idx = categorical.index(i)\n",
        "  ax1 = plt.subplot(2,2, idx+1)\n",
        "  ax1.pie(data[i].value_counts(), \n",
        "          labels=data[i].unique(),\n",
        "          autopct = '%1.1f%%'\n",
        "          )\n",
        "  ax1.set_title(i)\n",
        "  "
      ],
      "metadata": {
        "id": "AnoVGVYY1d5c"
      },
      "execution_count": null,
      "outputs": []
    },
    {
      "cell_type": "markdown",
      "source": [
        "Vemos que la categoría `oral` solo tiene un valor, la eliminamos junto con la variable `ID`."
      ],
      "metadata": {
        "id": "TBwMqQKW3Bdk"
      }
    },
    {
      "cell_type": "code",
      "source": [
        "data = data.drop(labels=['ID', 'oral'], axis=1)\n",
        "data.shape"
      ],
      "metadata": {
        "id": "3XORX_tb3ZoO"
      },
      "execution_count": null,
      "outputs": []
    },
    {
      "cell_type": "markdown",
      "source": [
        "Además, vemos que el dataset tiene mucha más presencia de personas no fumadoras y de mujeres, vamos a examinar si hay alguna relación."
      ],
      "metadata": {
        "id": "PudaPLh_3L0s"
      }
    },
    {
      "cell_type": "code",
      "source": [
        "CrosstabResult=pd.crosstab(index=data['gender'],columns=data['smoking'])\n",
        "print(CrosstabResult)"
      ],
      "metadata": {
        "id": "PbU4k_io9-Ih"
      },
      "execution_count": null,
      "outputs": []
    },
    {
      "cell_type": "markdown",
      "source": [
        "Parece que sí hay una clara distribución por sexo: la gran mayoría de fumadores previos son hombres."
      ],
      "metadata": {
        "id": "i8Gz1K0IMV9h"
      }
    },
    {
      "cell_type": "markdown",
      "source": [
        "Las columnas 'gender' y 'tartar' solo contienen dos categorías; las cambiamos a variables numéricas.\n",
        "\n",
        "* Gender: 0 = male, 1 = female\n",
        "* Tartar  0 = N, 1 = Y"
      ],
      "metadata": {
        "id": "zGuKNh-662rm"
      }
    },
    {
      "cell_type": "code",
      "source": [
        "data['gender'].replace('M', 0, inplace=True)\n",
        "data['gender'].replace('F', 1, inplace=True)\n",
        "data.replace('N', 0, inplace=True)\n",
        "data.replace('Y', 1, inplace=True)\n",
        "#data.loc[:,['gender', 'tartar']].head()"
      ],
      "metadata": {
        "id": "948jwuEZ7APh"
      },
      "execution_count": null,
      "outputs": []
    },
    {
      "cell_type": "code",
      "source": [
        "data.describe()"
      ],
      "metadata": {
        "id": "vmrCvn9nwyD8"
      },
      "execution_count": null,
      "outputs": []
    },
    {
      "cell_type": "markdown",
      "source": [
        "Las columnas `eyesight(left)` y `eyesgiht(right)` tienen valroes máximos de 9.9 pero la mayoría están entre cero y dos. Creemos que esto indica valores faltantes.\n",
        "\n",
        "Lo mismo podría pasar con la columna  `Gtp` y el valor 999, pero en ese caso sí que hay valores de más de novecientos, así que la vamos a dejar."
      ],
      "metadata": {
        "id": "Xtk_fMX2ytkL"
      }
    },
    {
      "cell_type": "code",
      "source": [
        "col = [ 'eyesight(left)', 'eyesight(right)']\n",
        "\n",
        "for i in col:\n",
        "  idx = col.index(i)\n",
        "  ax = plt.subplot(1,2, idx+1)\n",
        "  ax.hist(data[i])\n",
        "  ax.set_title(i)\n",
        "plt.rcParams[\"figure.figsize\"] = (3,2) # hacemos las gráficas más pequeñas\n",
        "plt.show()"
      ],
      "metadata": {
        "id": "cI__s29M6kEq"
      },
      "execution_count": null,
      "outputs": []
    },
    {
      "cell_type": "markdown",
      "source": [
        "Como tenemos muchas observaciones y hay muy pocos valores faltantes, eliminamos las filas con valores faltantes."
      ],
      "metadata": {
        "id": "lLgTet3F88ut"
      }
    },
    {
      "cell_type": "code",
      "source": [
        "data = data.drop(data[data['eyesight(left)']==9.9].index)\n",
        "data = data.drop(data[data['eyesight(right)']==9.9].index)\n",
        "data.shape"
      ],
      "metadata": {
        "id": "GxKAidL58668"
      },
      "execution_count": null,
      "outputs": []
    },
    {
      "cell_type": "code",
      "source": [
        "col = [ 'eyesight(left)', 'eyesight(right)']\n",
        "\n",
        "for i in col:\n",
        "  idx = col.index(i)\n",
        "  ax = plt.subplot(1,2, idx+1)\n",
        "  ax.hist(data[i])\n",
        "  ax.set_title(i)\n",
        "plt.rcParams[\"figure.figsize\"] = (6,2) # hacemos las gráficas más pequeñas\n",
        "plt.show()\n",
        "\n",
        "plt.rcParams[\"figure.figsize\"] = plt.rcParamsDefault[\"figure.figsize\"] # reset valores"
      ],
      "metadata": {
        "id": "Utzb9bkvBjo-"
      },
      "execution_count": null,
      "outputs": []
    },
    {
      "cell_type": "code",
      "source": [
        "print(\"Nos hemos quedado con el\", round(data.shape[0] *100 / original_dim[0],2), \"% de observaciones\")"
      ],
      "metadata": {
        "id": "RIDa1isp_o9x"
      },
      "execution_count": null,
      "outputs": []
    },
    {
      "cell_type": "markdown",
      "source": [
        "### Balanceo del dataset\n",
        "\n",
        "En la exploración hemos visto que teníamos mucha más cantidad de observaciones con el valor 0 que con el valor 1 en la variable predictora.\n",
        "\n",
        "Deberíamos coger la misma cantidad de datos de las dos clases (smoking=0 vs smoking=1) para no desviar el modelo.\n",
        "\n",
        "Vamos a realizar un undersampling."
      ],
      "metadata": {
        "id": "ltBsn6LkP_77"
      }
    },
    {
      "cell_type": "code",
      "source": [
        "# undersampling\n",
        "smoking1 = data[data['smoking']==1]\n",
        "smoking0 = data[data['smoking']==0]\n",
        "smoking0 = smoking0.sample(n=len(smoking1), random_state=101)\n",
        "data = pd.concat([smoking0, smoking1],axis=0)\n",
        "print(\"Nos hemos quedado con el\", round(data.shape[0] *100 / original_dim[0],2), \"% de observaciones\")"
      ],
      "metadata": {
        "id": "qpjLeB_1QS6p"
      },
      "execution_count": null,
      "outputs": []
    },
    {
      "cell_type": "markdown",
      "source": [
        "### Separación variables explicatorias y predictiva"
      ],
      "metadata": {
        "id": "q_47pGhFyW07"
      }
    },
    {
      "cell_type": "code",
      "source": [
        "X = data.iloc[:, :-1]\n",
        "Y = data.iloc[:, -1]\n",
        "\n",
        "print(X.shape)\n",
        "print(Y.shape)"
      ],
      "metadata": {
        "id": "_T8BxrtW9M26"
      },
      "execution_count": null,
      "outputs": []
    },
    {
      "cell_type": "markdown",
      "source": [
        "### División train/test/validation\n",
        "\n",
        "Como tenemos un gran número de observaciones, vamos a hacer la validación de `k` con un set de validación en lugar de hacer validación cruzada."
      ],
      "metadata": {
        "id": "Y74sLtK67BSj"
      }
    },
    {
      "cell_type": "code",
      "source": [
        "X0_train, X0_test, Y0_train, Y_test = train_test_split(X, Y, test_size=0.2, random_state=0)\n",
        "X1_train, X1_val, Y_train, Y_val = train_test_split(X0_train, Y0_train, test_size=0.2, random_state=0)\n",
        "\n",
        "transformer = StandardScaler().fit(X1_train)\n",
        "X_train = transformer.transform(X1_train)\n",
        "X_val = transformer.transform(X1_val)\n",
        "X_test = transformer.transform(X0_test)\n",
        "print(\"Observaciones de train:\", X_train.shape[0]) \n",
        "print(\"Observaciones de validación:\",X_val.shape[0])\n",
        "print(\"Observaciones de test:\",X_test.shape[0])"
      ],
      "metadata": {
        "id": "N33isve_Rlfl"
      },
      "execution_count": null,
      "outputs": []
    },
    {
      "cell_type": "markdown",
      "source": [
        "### Normalización"
      ],
      "metadata": {
        "id": "yQYOwLte-UFo"
      }
    },
    {
      "cell_type": "code",
      "source": [
        "transformer = StandardScaler().fit(X_train)\n",
        "X_train = transformer.transform(X_train)\n",
        "X_val = transformer.transform(X_val)\n",
        "X_test = transformer.transform(X_test)"
      ],
      "metadata": {
        "id": "DTzj118r-USo"
      },
      "execution_count": null,
      "outputs": []
    },
    {
      "cell_type": "markdown",
      "source": [
        "### Modelo con KNN"
      ],
      "metadata": {
        "id": "HtHmwZOBC3yW"
      }
    },
    {
      "cell_type": "markdown",
      "source": [
        "#### Entreno del modelo con varias k en el conjunto de validación"
      ],
      "metadata": {
        "id": "Av-PbythOVTV"
      }
    },
    {
      "cell_type": "code",
      "source": [
        "k_list = [1, 10, 50, 100, 200, 1000, 10000]\n",
        "\n",
        "# Dibujamos los errores de entrenamiento y de test en función del parámetro k\n",
        "n_tr = X_train.shape[0]\n",
        "pe_tr = []\n",
        "pe_val = []\n",
        "\n",
        "for k in k_list:\n",
        "    # Errores de entrenamiento\n",
        "    KNN_k = KNeighborsClassifier(n_neighbors=k)\n",
        "    KNN_k.fit(X_train, Y_train)\n",
        "    Z_tr = KNN_k.predict(X_train)\n",
        "    E_tr = Z_tr.flatten()!=Y_train\n",
        "\n",
        "    # Errores de val\n",
        "    Z_tst = KNN_k.predict(X_val)\n",
        "    E_val = Z_tst.flatten()!=Y_val\n",
        "\n",
        "    # Tasas de error\n",
        "    pe_tr.append(np.mean(E_tr))\n",
        "    pe_val.append(np.mean(E_val))\n",
        "\n",
        "k_opt = k_list[np.argmin(pe_val)]\n",
        "print('El valor óptimo de k es ' + str(k_opt))"
      ],
      "metadata": {
        "id": "rgnTaN5pKzSJ"
      },
      "execution_count": null,
      "outputs": []
    },
    {
      "cell_type": "code",
      "source": [
        "# graficamos\n",
        "plt.plot(np.log10(k_list), pe_tr,'b--o',label='Training error')\n",
        "plt.plot(np.log10(k_list), pe_val,'g--o',label='Validation error')\n",
        "plt.stem([np.log10(k_opt), np.log10(k_opt)], [0, min(pe_val)],'r-o',label='Optimal k')\n",
        "plt.xlabel('$log(k)$')\n",
        "plt.ylabel('Tasa de error')\n",
        "plt.legend(loc='best')"
      ],
      "metadata": {
        "id": "WtcUYh4kGMb9"
      },
      "execution_count": null,
      "outputs": []
    },
    {
      "cell_type": "markdown",
      "source": [
        "#### Evaluación del modelo con la mejor k"
      ],
      "metadata": {
        "id": "vK80-H2G-nN6"
      }
    },
    {
      "cell_type": "code",
      "source": [
        "clf = KNeighborsClassifier(k_opt)\n",
        "clf.fit(X_train, Y_train)\n",
        "Y_test_pred = clf.predict(X_test)\n",
        "pe_tst = np.mean(Y_test != Y_test_pred)\n",
        "print('Tasa de error', round(pe_tst,2), \"con k = \", k_opt)"
      ],
      "metadata": {
        "id": "mzVyjog_47sv"
      },
      "execution_count": null,
      "outputs": []
    },
    {
      "cell_type": "code",
      "source": [
        "ConfusionMatrixDisplay.from_estimator(clf, X_test, Y_test)"
      ],
      "metadata": {
        "id": "8onYmrSj9ScN"
      },
      "execution_count": null,
      "outputs": []
    }
  ]
}